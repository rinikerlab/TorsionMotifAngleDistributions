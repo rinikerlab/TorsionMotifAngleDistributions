{
 "cells": [
  {
   "cell_type": "code",
   "execution_count": 1,
   "id": "4223b0d1",
   "metadata": {},
   "outputs": [],
   "source": [
    "import sys\n",
    "sys.path.append('./Scripts')"
   ]
  },
  {
   "cell_type": "markdown",
   "id": "06768f37",
   "metadata": {},
   "source": [
    "**!NOTE!**  \n",
    "Before importing the RetrieveDataEnsembleVac function from Scripts/dataRetrieval.py, please set the correct values for hostname, username and database name in the file. "
   ]
  },
  {
   "cell_type": "code",
   "execution_count": 2,
   "id": "9ea33446",
   "metadata": {},
   "outputs": [
    {
     "data": {
      "application/vnd.jupyter.widget-view+json": {
       "model_id": "e0c4dd5c1f5a4b199c4049ac55691f44",
       "version_major": 2,
       "version_minor": 0
      },
      "text/plain": []
     },
     "metadata": {},
     "output_type": "display_data"
    },
    {
     "name": "stderr",
     "output_type": "stream",
     "text": [
      "/localhome/braunje/.conda/envs/GNNImplicitSolventAndTools/lib/python3.10/site-packages/nglview/__init__.py:12: UserWarning: pkg_resources is deprecated as an API. See https://setuptools.pypa.io/en/latest/pkg_resources.html. The pkg_resources package is slated for removal as early as 2025-11-30. Refrain from using this package or pin to Setuptools<81.\n",
      "  import pkg_resources\n"
     ]
    }
   ],
   "source": [
    "import nglview as nv\n",
    "from Scripts import RetrieveEnsembleDataVac"
   ]
  },
  {
   "cell_type": "markdown",
   "id": "51231381",
   "metadata": {},
   "source": [
    "Retrieve coordinates from the database and restore to rdkit conformers"
   ]
  },
  {
   "cell_type": "code",
   "execution_count": null,
   "id": "706a9536",
   "metadata": {},
   "outputs": [],
   "source": [
    "m = RetrieveEnsembleDataVac(3)"
   ]
  },
  {
   "cell_type": "markdown",
   "id": "0f10bcf9",
   "metadata": {},
   "source": [
    "Visualization of the ensemble"
   ]
  },
  {
   "cell_type": "code",
   "execution_count": 4,
   "id": "fa599b84",
   "metadata": {},
   "outputs": [
    {
     "data": {
      "application/vnd.jupyter.widget-view+json": {
       "model_id": "1cd52677ad1e4cab93b4e7637172eb3c",
       "version_major": 2,
       "version_minor": 0
      },
      "text/plain": [
       "NGLWidget()"
      ]
     },
     "metadata": {},
     "output_type": "display_data"
    }
   ],
   "source": [
    "nv.show_rdkit(m,conf_id=20)"
   ]
  },
  {
   "cell_type": "code",
   "execution_count": null,
   "id": "8fb797d3",
   "metadata": {},
   "outputs": [],
   "source": []
  }
 ],
 "metadata": {
  "kernelspec": {
   "display_name": "Python 3",
   "language": "python",
   "name": "python3"
  },
  "language_info": {
   "codemirror_mode": {
    "name": "ipython",
    "version": 3
   },
   "file_extension": ".py",
   "mimetype": "text/x-python",
   "name": "python",
   "nbconvert_exporter": "python",
   "pygments_lexer": "ipython3",
   "version": "3.10.16"
  }
 },
 "nbformat": 4,
 "nbformat_minor": 5
}
