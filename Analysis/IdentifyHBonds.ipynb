{
 "cells": [
  {
   "cell_type": "code",
   "execution_count": null,
   "id": "b4b80510",
   "metadata": {},
   "outputs": [],
   "source": [
    "from rdkit import Chem\n",
    "from rdkit.Chem import AllChem, rdMolTransforms\n",
    "from rdkit.Chem.Draw import IPythonConsole\n",
    "IPythonConsole.molSize = (400,400)\n",
    "IPythonConsole.drawOptions.addAtomIndices = True"
   ]
  },
  {
   "cell_type": "code",
   "execution_count": null,
   "id": "a00fb474",
   "metadata": {},
   "outputs": [],
   "source": [
    "mol = Chem.MolFromMolFile(\"./889.sdf\", removeHs=False)"
   ]
  },
  {
   "cell_type": "code",
   "execution_count": null,
   "id": "df97d535",
   "metadata": {},
   "outputs": [],
   "source": [
    "mol"
   ]
  },
  {
   "cell_type": "code",
   "execution_count": null,
   "id": "a0a8b6e3",
   "metadata": {},
   "outputs": [],
   "source": [
    "rdMolTransforms.GetDihedralDeg(mol.GetConformer(), 20, 19, 18, 6)"
   ]
  },
  {
   "cell_type": "markdown",
   "id": "b30131a6",
   "metadata": {},
   "source": [
    "Create the explicit simulation"
   ]
  },
  {
   "cell_type": "code",
   "execution_count": null,
   "id": "bf2cfe3d",
   "metadata": {},
   "outputs": [],
   "source": [
    "from Simulation.Simulator import Simulator\n",
    "from ForceField.Forcefield import OpenFF_forcefield\n",
    "from openmm import LangevinMiddleIntegrator, MonteCarloBarostat\n",
    "import mdtraj"
   ]
  },
  {
   "cell_type": "markdown",
   "id": "b2a19c9d",
   "metadata": {},
   "source": [
    "setup the simulation"
   ]
  },
  {
   "cell_type": "code",
   "execution_count": null,
   "id": "68054b69",
   "metadata": {},
   "outputs": [],
   "source": [
    "smiles = Chem.MolToSmiles(mol)\n",
    "explicit_simulation = Simulator(work_dir=\"/tmp/explicit_simulation\",\n",
    "                                name=\"explicit_simulation\",\n",
    "                                save_name=\"889\",\n",
    "                                pdb_id=f\"{smiles}_in_O\",\n",
    "                                rdkit_mol=mol)\n",
    "explicit_simulation.forcefield = OpenFF_forcefield(f\"{smiles}_in_O\",rdkit_mol=mol,cache=\"/tmp/explicit_simulation\")\n",
    "explicit_simulation.integrator = LangevinMiddleIntegrator(300, 1.0, 2.0e-3)\n",
    "explicit_simulation.barostat = MonteCarloBarostat(1.0, 300, 25)"
   ]
  },
  {
   "cell_type": "markdown",
   "id": "e58ad5aa",
   "metadata": {},
   "source": [
    "restrain the molecule"
   ]
  },
  {
   "cell_type": "code",
   "execution_count": null,
   "id": "1158e296",
   "metadata": {},
   "outputs": [],
   "source": [
    "num_particles = explicit_simulation._system.getNumParticles()\n",
    "num_atoms = mol.GetNumAtoms()\n",
    "\n",
    "# Molecule atoms are last in the system\n",
    "atomsToRestrain = [i + num_particles - num_atoms for i in range(num_atoms)]\n",
    "\n",
    "# OpenMM restrains all atoms with mass 0\n",
    "for i in atomsToRestrain:\n",
    "    explicit_simulation._system.setParticleMass(i, 0.0)\n",
    "\n",
    "# Create simulation to apply restraints\n",
    "explicit_simulation.create_simulation()\n",
    "explicit_simulation.platform = \"GPU\""
   ]
  },
  {
   "cell_type": "markdown",
   "id": "ae013297",
   "metadata": {},
   "source": [
    "run the simulation"
   ]
  },
  {
   "cell_type": "code",
   "execution_count": null,
   "id": "9e4785ab",
   "metadata": {},
   "outputs": [],
   "source": [
    "# Run Simulation, 200 ps\n",
    "explicit_simulation.run_simulation(100000,20)"
   ]
  },
  {
   "cell_type": "markdown",
   "id": "0e7326a9",
   "metadata": {},
   "source": [
    "analyze trajectory"
   ]
  },
  {
   "cell_type": "code",
   "execution_count": null,
   "id": "579e7260",
   "metadata": {},
   "outputs": [],
   "source": [
    "traj = mdtraj.load(\"/tmp/explicit_simulationSimulation/simulation/889_openff200_tip3p_0_0_output.h5\")"
   ]
  },
  {
   "cell_type": "code",
   "execution_count": null,
   "id": "677a1f74",
   "metadata": {},
   "outputs": [],
   "source": [
    "# centering the solute\n",
    "traj.image_molecules(inplace=True)"
   ]
  },
  {
   "cell_type": "code",
   "execution_count": null,
   "id": "d2b79aeb",
   "metadata": {},
   "outputs": [],
   "source": [
    "# saving topology for vmd\n",
    "traj[0].save_pdb(\"/tmp/explicit_simulationSimulation/simulation/889_openff200_tip3p_0_0_output.pdb\")\n",
    "# saving trajectory for vmd\n",
    "traj[::100].save_xtc(\"/tmp/explicit_simulationSimulation/simulation/889_openff200_tip3p_0_0_output.xtc\")"
   ]
  }
 ],
 "metadata": {
  "kernelspec": {
   "display_name": "GNNImplicitSolventAndTools",
   "language": "python",
   "name": "python3"
  },
  "language_info": {
   "codemirror_mode": {
    "name": "ipython",
    "version": 3
   },
   "file_extension": ".py",
   "mimetype": "text/x-python",
   "name": "python",
   "nbconvert_exporter": "python",
   "pygments_lexer": "ipython3",
   "version": "3.10.16"
  }
 },
 "nbformat": 4,
 "nbformat_minor": 5
}
